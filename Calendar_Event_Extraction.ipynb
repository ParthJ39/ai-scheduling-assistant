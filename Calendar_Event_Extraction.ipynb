{
 "cells": [
  {
   "cell_type": "markdown",
   "id": "ad70f19d",
   "metadata": {},
   "source": [
    "# Google Calendar Event Fetcher\n",
    "\n",
    "#### The Notebook demonstrates how to programmatically retrieve and process Google Calendar events for a given user and date range.\n",
    "\n",
    "##### Key Steps:\n",
    "\n",
    "Authentication: Load user credentials from a token file.\n",
    "\n",
    "API Call: Fetch events between specified start/end dates using the Google Calendar API.\n",
    "\n",
    "Data Processing: Extract event details (start/end times, attendees) and structure them into a clean format.\n",
    "\n",
    "Output: Return a list of events with attendee counts and time slots.\n",
    "```"
   ]
  },
  {
   "cell_type": "markdown",
   "id": "4411255e",
   "metadata": {},
   "source": [
    "### Importing Required Libraries"
   ]
  },
  {
   "cell_type": "code",
   "execution_count": 3,
   "id": "1c82ee6f",
   "metadata": {},
   "outputs": [],
   "source": [
    "import json\n",
    "from datetime import datetime, timezone, timedelta\n",
    "from google.oauth2.credentials import Credentials\n",
    "from googleapiclient.discovery import build"
   ]
  },
  {
   "cell_type": "markdown",
   "id": "e4e1d252",
   "metadata": {},
   "source": [
    "### Defining the retrive_calendar_events Function that includes : \n",
    "#### 1. Authenticating with Google Calendar\n",
    "#### 2. Fetching Events\n",
    "#### 3. Processing Events & Structuring"
   ]
  },
  {
   "cell_type": "code",
   "execution_count": 4,
   "id": "a71a3470",
   "metadata": {},
   "outputs": [],
   "source": [
    "def retrive_calendar_events(user, start, end):\n",
    "    events_list = []\n",
    "    token_path = \"../Keys/\"+user.split(\"@\")[0]+\".token\"\n",
    "    user_creds = Credentials.from_authorized_user_file(token_path)\n",
    "    calendar_service = build(\"calendar\", \"v3\", credentials=user_creds)\n",
    "    events_result = calendar_service.events().list(calendarId='primary', timeMin=start,timeMax=end,singleEvents=True,orderBy='startTime').execute()\n",
    "    events = events_result.get('items')\n",
    "    print(events)\n",
    "    for event in events : \n",
    "        attendee_list = []\n",
    "        try:\n",
    "            for attendee in event[\"attendees\"]: \n",
    "                attendee_list.append(attendee['email'])\n",
    "        except: \n",
    "            attendee_list.append(\"SELF\")\n",
    "        start_time = event[\"start\"][\"dateTime\"]\n",
    "        end_time = event[\"end\"][\"dateTime\"]\n",
    "        events_list.append(\n",
    "            {\"StartTime\" : start_time, \n",
    "             \"EndTime\": end_time, \n",
    "             \"NumAttendees\" :len(set(attendee_list)), \n",
    "             \"Attendees\" : list(set(attendee_list)),\n",
    "             \"Summary\" : event[\"summary\"]})\n",
    "    return events_list"
   ]
  },
  {
   "cell_type": "markdown",
   "id": "e2c46704",
   "metadata": {},
   "source": [
    "### Calling ```retrive_calendar_events``` with Auth Token, Start Date & End Date \n",
    "#### Date Format : YYYY-MM-DD (T) HH:MM:SS +TIMEZONE (+5:30 Indicates IST Time Zone Asia/Kolkata ) "
   ]
  },
  {
   "cell_type": "code",
   "execution_count": 8,
   "id": "8a76b494",
   "metadata": {},
   "outputs": [
    {
     "name": "stdout",
     "output_type": "stream",
     "text": [
      "[{'kind': 'calendar#event', 'etag': '\"3504585136906718\"', 'id': '66lg48qj2shkdjv2tk1md11tpk_20250716T123000Z', 'status': 'confirmed', 'htmlLink': 'https://www.google.com/calendar/event?eid=NjZsZzQ4cWoyc2hrZGp2MnRrMW1kMTF0cGtfMjAyNTA3MTZUMTIzMDAwWiB1c2VydHdvLmFtZEBt', 'created': '2025-07-12T03:56:08.000Z', 'updated': '2025-07-12T03:56:08.453Z', 'summary': 'Off Hours', 'colorId': '11', 'creator': {'email': 'usertwo.amd@gmail.com', 'self': True}, 'organizer': {'email': 'usertwo.amd@gmail.com', 'self': True}, 'start': {'dateTime': '2025-07-16T18:00:00+05:30', 'timeZone': 'Asia/Kolkata'}, 'end': {'dateTime': '2025-07-17T09:00:00+05:30', 'timeZone': 'Asia/Kolkata'}, 'recurringEventId': '66lg48qj2shkdjv2tk1md11tpk', 'originalStartTime': {'dateTime': '2025-07-16T18:00:00+05:30', 'timeZone': 'Asia/Kolkata'}, 'iCalUID': '66lg48qj2shkdjv2tk1md11tpk@google.com', 'sequence': 0, 'reminders': {'useDefault': True}, 'eventType': 'default'}, {'kind': 'calendar#event', 'etag': '\"3504769070673118\"', 'id': '6i1n3805h39emn34maf30quf94', 'status': 'confirmed', 'htmlLink': 'https://www.google.com/calendar/event?eid=NmkxbjM4MDVoMzllbW4zNG1hZjMwcXVmOTQgdXNlcnR3by5hbWRAbQ', 'created': '2025-07-13T05:28:55.000Z', 'updated': '2025-07-13T05:28:55.336Z', 'summary': 'Meet to discuss ongoing Projects', 'creator': {'email': 'usertwo.amd@gmail.com', 'self': True}, 'organizer': {'email': 'usertwo.amd@gmail.com', 'self': True}, 'start': {'dateTime': '2025-07-17T09:00:00+05:30', 'timeZone': 'Asia/Kolkata'}, 'end': {'dateTime': '2025-07-17T09:30:00+05:30', 'timeZone': 'Asia/Kolkata'}, 'iCalUID': '6i1n3805h39emn34maf30quf94@google.com', 'sequence': 0, 'attendees': [{'email': 'userthree.amd@gmail.com', 'responseStatus': 'needsAction'}, {'email': 'usertwo.amd@gmail.com', 'organizer': True, 'self': True, 'responseStatus': 'needsAction'}, {'email': 'userone.amd@gmail.com', 'responseStatus': 'needsAction'}], 'reminders': {'useDefault': True}, 'eventType': 'default'}, {'kind': 'calendar#event', 'etag': '\"3504772661670622\"', 'id': 'ltudo2uhpvrkmnh0il5to0ia7c', 'status': 'confirmed', 'htmlLink': 'https://www.google.com/calendar/event?eid=bHR1ZG8ydWhwdnJrbW5oMGlsNXRvMGlhN2MgdXNlcnR3by5hbWRAbQ', 'created': '2025-07-13T05:31:08.000Z', 'updated': '2025-07-13T05:58:50.835Z', 'summary': 'Meet to discuss ongoing Projects', 'creator': {'email': 'userthree.amd@gmail.com'}, 'organizer': {'email': 'userthree.amd@gmail.com'}, 'start': {'dateTime': '2025-07-17T09:30:00+05:30', 'timeZone': 'Asia/Kolkata'}, 'end': {'dateTime': '2025-07-17T10:00:00+05:30', 'timeZone': 'Asia/Kolkata'}, 'iCalUID': 'ltudo2uhpvrkmnh0il5to0ia7c@google.com', 'sequence': 0, 'attendees': [{'email': 'userthree.amd@gmail.com', 'organizer': True, 'responseStatus': 'needsAction'}, {'email': 'usertwo.amd@gmail.com', 'self': True, 'responseStatus': 'needsAction'}, {'email': 'userone.amd@gmail.com', 'responseStatus': 'declined'}], 'reminders': {'useDefault': True}, 'eventType': 'default'}, {'kind': 'calendar#event', 'etag': '\"3504772668022110\"', 'id': 'qhbns7nm6puo2kmr2ofke4mqfo', 'status': 'confirmed', 'htmlLink': 'https://www.google.com/calendar/event?eid=cWhibnM3bm02cHVvMmttcjJvZmtlNG1xZm8gdXNlcnR3by5hbWRAbQ', 'created': '2025-07-13T05:31:07.000Z', 'updated': '2025-07-13T05:58:54.011Z', 'summary': 'Meet to discuss ongoing Projects', 'creator': {'email': 'usertwo.amd@gmail.com', 'self': True}, 'organizer': {'email': 'usertwo.amd@gmail.com', 'self': True}, 'start': {'dateTime': '2025-07-17T09:30:00+05:30', 'timeZone': 'Asia/Kolkata'}, 'end': {'dateTime': '2025-07-17T10:00:00+05:30', 'timeZone': 'Asia/Kolkata'}, 'iCalUID': 'qhbns7nm6puo2kmr2ofke4mqfo@google.com', 'sequence': 0, 'attendees': [{'email': 'userthree.amd@gmail.com', 'responseStatus': 'needsAction'}, {'email': 'usertwo.amd@gmail.com', 'organizer': True, 'self': True, 'responseStatus': 'needsAction'}, {'email': 'userone.amd@gmail.com', 'responseStatus': 'declined'}], 'reminders': {'useDefault': True}, 'eventType': 'default'}, {'kind': 'calendar#event', 'etag': '\"3504772670389726\"', 'id': '0leff7qis532sjo3nejjsmbso0', 'status': 'confirmed', 'htmlLink': 'https://www.google.com/calendar/event?eid=MGxlZmY3cWlzNTMyc2pvM25lampzbWJzbzAgdXNlcnR3by5hbWRAbQ', 'created': '2025-07-13T05:31:29.000Z', 'updated': '2025-07-13T05:58:55.194Z', 'summary': 'Meet to discuss ongoing Projects', 'creator': {'email': 'userthree.amd@gmail.com'}, 'organizer': {'email': 'userthree.amd@gmail.com'}, 'start': {'dateTime': '2025-07-17T10:00:00+05:30', 'timeZone': 'Asia/Kolkata'}, 'end': {'dateTime': '2025-07-17T10:30:00+05:30', 'timeZone': 'Asia/Kolkata'}, 'iCalUID': '0leff7qis532sjo3nejjsmbso0@google.com', 'sequence': 0, 'attendees': [{'email': 'userthree.amd@gmail.com', 'organizer': True, 'responseStatus': 'needsAction'}, {'email': 'usertwo.amd@gmail.com', 'self': True, 'responseStatus': 'needsAction'}, {'email': 'userone.amd@gmail.com', 'responseStatus': 'declined'}], 'reminders': {'useDefault': True}, 'eventType': 'default'}, {'kind': 'calendar#event', 'etag': '\"3504772672522206\"', 'id': '2s1h22btu27npjkqkrqb9eilc4', 'status': 'confirmed', 'htmlLink': 'https://www.google.com/calendar/event?eid=MnMxaDIyYnR1MjducGprcWtycWI5ZWlsYzQgdXNlcnR3by5hbWRAbQ', 'created': '2025-07-13T05:31:28.000Z', 'updated': '2025-07-13T05:58:56.261Z', 'summary': 'Meet to discuss ongoing Projects', 'creator': {'email': 'usertwo.amd@gmail.com', 'self': True}, 'organizer': {'email': 'usertwo.amd@gmail.com', 'self': True}, 'start': {'dateTime': '2025-07-17T10:00:00+05:30', 'timeZone': 'Asia/Kolkata'}, 'end': {'dateTime': '2025-07-17T10:30:00+05:30', 'timeZone': 'Asia/Kolkata'}, 'iCalUID': '2s1h22btu27npjkqkrqb9eilc4@google.com', 'sequence': 0, 'attendees': [{'email': 'userthree.amd@gmail.com', 'responseStatus': 'needsAction'}, {'email': 'usertwo.amd@gmail.com', 'organizer': True, 'self': True, 'responseStatus': 'needsAction'}, {'email': 'userone.amd@gmail.com', 'responseStatus': 'declined'}], 'reminders': {'useDefault': True}, 'eventType': 'default'}, {'kind': 'calendar#event', 'etag': '\"3504772696062750\"', 'id': '4ikhi5fu3697unces4sr1vqtlc', 'status': 'confirmed', 'htmlLink': 'https://www.google.com/calendar/event?eid=NGlraGk1ZnUzNjk3dW5jZXM0c3IxdnF0bGMgdXNlcnR3by5hbWRAbQ', 'created': '2025-07-13T05:32:04.000Z', 'updated': '2025-07-13T05:59:08.031Z', 'summary': 'Meet to discuss ongoing Projects', 'creator': {'email': 'userthree.amd@gmail.com'}, 'organizer': {'email': 'userthree.amd@gmail.com'}, 'start': {'dateTime': '2025-07-17T10:30:00+05:30', 'timeZone': 'Asia/Kolkata'}, 'end': {'dateTime': '2025-07-17T11:00:00+05:30', 'timeZone': 'Asia/Kolkata'}, 'iCalUID': '4ikhi5fu3697unces4sr1vqtlc@google.com', 'sequence': 0, 'attendees': [{'email': 'userthree.amd@gmail.com', 'organizer': True, 'responseStatus': 'needsAction'}, {'email': 'usertwo.amd@gmail.com', 'self': True, 'responseStatus': 'needsAction'}, {'email': 'userone.amd@gmail.com', 'responseStatus': 'declined'}], 'reminders': {'useDefault': True}, 'eventType': 'default'}, {'kind': 'calendar#event', 'etag': '\"3504772705368638\"', 'id': 'b6gvaqsp9qa9vhmn2p2ldsgeto', 'status': 'confirmed', 'htmlLink': 'https://www.google.com/calendar/event?eid=YjZndmFxc3A5cWE5dmhtbjJwMmxkc2dldG8gdXNlcnR3by5hbWRAbQ', 'created': '2025-07-13T05:32:04.000Z', 'updated': '2025-07-13T05:59:12.684Z', 'summary': 'Meet to discuss ongoing Projects', 'creator': {'email': 'usertwo.amd@gmail.com', 'self': True}, 'organizer': {'email': 'usertwo.amd@gmail.com', 'self': True}, 'start': {'dateTime': '2025-07-17T10:30:00+05:30', 'timeZone': 'Asia/Kolkata'}, 'end': {'dateTime': '2025-07-17T11:00:00+05:30', 'timeZone': 'Asia/Kolkata'}, 'iCalUID': 'b6gvaqsp9qa9vhmn2p2ldsgeto@google.com', 'sequence': 0, 'attendees': [{'email': 'userthree.amd@gmail.com', 'responseStatus': 'needsAction'}, {'email': 'usertwo.amd@gmail.com', 'organizer': True, 'self': True, 'responseStatus': 'needsAction'}, {'email': 'userone.amd@gmail.com', 'responseStatus': 'declined'}], 'reminders': {'useDefault': True}, 'eventType': 'default'}, {'kind': 'calendar#event', 'etag': '\"3504772743578238\"', 'id': '2at2aob58du2boj83tlkoek590', 'status': 'confirmed', 'htmlLink': 'https://www.google.com/calendar/event?eid=MmF0MmFvYjU4ZHUyYm9qODN0bGtvZWs1OTAgdXNlcnR3by5hbWRAbQ', 'created': '2025-07-13T05:32:30.000Z', 'updated': '2025-07-13T05:59:31.789Z', 'summary': 'Meet to discuss ongoing Projects', 'creator': {'email': 'usertwo.amd@gmail.com', 'self': True}, 'organizer': {'email': 'usertwo.amd@gmail.com', 'self': True}, 'start': {'dateTime': '2025-07-17T11:00:00+05:30', 'timeZone': 'Asia/Kolkata'}, 'end': {'dateTime': '2025-07-17T11:30:00+05:30', 'timeZone': 'Asia/Kolkata'}, 'iCalUID': '2at2aob58du2boj83tlkoek590@google.com', 'sequence': 0, 'attendees': [{'email': 'userthree.amd@gmail.com', 'responseStatus': 'needsAction'}, {'email': 'usertwo.amd@gmail.com', 'organizer': True, 'self': True, 'responseStatus': 'needsAction'}, {'email': 'userone.amd@gmail.com', 'responseStatus': 'declined'}], 'reminders': {'useDefault': True}, 'eventType': 'default'}, {'kind': 'calendar#event', 'etag': '\"3504772709818046\"', 'id': 'kcbgctjerjp849s1o03ovsru7g', 'status': 'confirmed', 'htmlLink': 'https://www.google.com/calendar/event?eid=a2NiZ2N0amVyanA4NDlzMW8wM292c3J1N2cgdXNlcnR3by5hbWRAbQ', 'created': '2025-07-13T05:32:31.000Z', 'updated': '2025-07-13T05:59:14.909Z', 'summary': 'Meet to discuss ongoing Projects', 'creator': {'email': 'userthree.amd@gmail.com'}, 'organizer': {'email': 'userthree.amd@gmail.com'}, 'start': {'dateTime': '2025-07-17T11:00:00+05:30', 'timeZone': 'Asia/Kolkata'}, 'end': {'dateTime': '2025-07-17T11:30:00+05:30', 'timeZone': 'Asia/Kolkata'}, 'iCalUID': 'kcbgctjerjp849s1o03ovsru7g@google.com', 'sequence': 0, 'attendees': [{'email': 'userthree.amd@gmail.com', 'organizer': True, 'responseStatus': 'needsAction'}, {'email': 'usertwo.amd@gmail.com', 'self': True, 'responseStatus': 'needsAction'}, {'email': 'userone.amd@gmail.com', 'responseStatus': 'declined'}], 'reminders': {'useDefault': True}, 'eventType': 'default'}, {'kind': 'calendar#event', 'etag': '\"3504585136906718\"', 'id': '66lg48qj2shkdjv2tk1md11tpk_20250717T123000Z', 'status': 'confirmed', 'htmlLink': 'https://www.google.com/calendar/event?eid=NjZsZzQ4cWoyc2hrZGp2MnRrMW1kMTF0cGtfMjAyNTA3MTdUMTIzMDAwWiB1c2VydHdvLmFtZEBt', 'created': '2025-07-12T03:56:08.000Z', 'updated': '2025-07-12T03:56:08.453Z', 'summary': 'Off Hours', 'colorId': '11', 'creator': {'email': 'usertwo.amd@gmail.com', 'self': True}, 'organizer': {'email': 'usertwo.amd@gmail.com', 'self': True}, 'start': {'dateTime': '2025-07-17T18:00:00+05:30', 'timeZone': 'Asia/Kolkata'}, 'end': {'dateTime': '2025-07-18T09:00:00+05:30', 'timeZone': 'Asia/Kolkata'}, 'recurringEventId': '66lg48qj2shkdjv2tk1md11tpk', 'originalStartTime': {'dateTime': '2025-07-17T18:00:00+05:30', 'timeZone': 'Asia/Kolkata'}, 'iCalUID': '66lg48qj2shkdjv2tk1md11tpk@google.com', 'sequence': 0, 'reminders': {'useDefault': True}, 'eventType': 'default'}]\n"
     ]
    }
   ],
   "source": [
    "event = retrive_calendar_events(\"usertwo.amd@gmail.com\", '2025-07-17T00:00:00+05:30', '2025-07-17T23:59:59+05:30')"
   ]
  },
  {
   "cell_type": "markdown",
   "id": "3d59631a",
   "metadata": {},
   "source": [
    "### Output that describing sample event : "
   ]
  },
  {
   "cell_type": "code",
   "execution_count": 9,
   "id": "c0adca3c",
   "metadata": {},
   "outputs": [
    {
     "data": {
      "text/plain": [
       "[{'StartTime': '2025-07-16T18:00:00+05:30',\n",
       "  'EndTime': '2025-07-17T09:00:00+05:30',\n",
       "  'NumAttendees': 1,\n",
       "  'Attendees': ['SELF'],\n",
       "  'Summary': 'Off Hours'},\n",
       " {'StartTime': '2025-07-17T09:00:00+05:30',\n",
       "  'EndTime': '2025-07-17T09:30:00+05:30',\n",
       "  'NumAttendees': 3,\n",
       "  'Attendees': ['usertwo.amd@gmail.com',\n",
       "   'userone.amd@gmail.com',\n",
       "   'userthree.amd@gmail.com'],\n",
       "  'Summary': 'Meet to discuss ongoing Projects'},\n",
       " {'StartTime': '2025-07-17T09:30:00+05:30',\n",
       "  'EndTime': '2025-07-17T10:00:00+05:30',\n",
       "  'NumAttendees': 3,\n",
       "  'Attendees': ['usertwo.amd@gmail.com',\n",
       "   'userone.amd@gmail.com',\n",
       "   'userthree.amd@gmail.com'],\n",
       "  'Summary': 'Meet to discuss ongoing Projects'},\n",
       " {'StartTime': '2025-07-17T09:30:00+05:30',\n",
       "  'EndTime': '2025-07-17T10:00:00+05:30',\n",
       "  'NumAttendees': 3,\n",
       "  'Attendees': ['usertwo.amd@gmail.com',\n",
       "   'userone.amd@gmail.com',\n",
       "   'userthree.amd@gmail.com'],\n",
       "  'Summary': 'Meet to discuss ongoing Projects'},\n",
       " {'StartTime': '2025-07-17T10:00:00+05:30',\n",
       "  'EndTime': '2025-07-17T10:30:00+05:30',\n",
       "  'NumAttendees': 3,\n",
       "  'Attendees': ['usertwo.amd@gmail.com',\n",
       "   'userone.amd@gmail.com',\n",
       "   'userthree.amd@gmail.com'],\n",
       "  'Summary': 'Meet to discuss ongoing Projects'},\n",
       " {'StartTime': '2025-07-17T10:00:00+05:30',\n",
       "  'EndTime': '2025-07-17T10:30:00+05:30',\n",
       "  'NumAttendees': 3,\n",
       "  'Attendees': ['usertwo.amd@gmail.com',\n",
       "   'userone.amd@gmail.com',\n",
       "   'userthree.amd@gmail.com'],\n",
       "  'Summary': 'Meet to discuss ongoing Projects'},\n",
       " {'StartTime': '2025-07-17T10:30:00+05:30',\n",
       "  'EndTime': '2025-07-17T11:00:00+05:30',\n",
       "  'NumAttendees': 3,\n",
       "  'Attendees': ['usertwo.amd@gmail.com',\n",
       "   'userone.amd@gmail.com',\n",
       "   'userthree.amd@gmail.com'],\n",
       "  'Summary': 'Meet to discuss ongoing Projects'},\n",
       " {'StartTime': '2025-07-17T10:30:00+05:30',\n",
       "  'EndTime': '2025-07-17T11:00:00+05:30',\n",
       "  'NumAttendees': 3,\n",
       "  'Attendees': ['usertwo.amd@gmail.com',\n",
       "   'userone.amd@gmail.com',\n",
       "   'userthree.amd@gmail.com'],\n",
       "  'Summary': 'Meet to discuss ongoing Projects'},\n",
       " {'StartTime': '2025-07-17T11:00:00+05:30',\n",
       "  'EndTime': '2025-07-17T11:30:00+05:30',\n",
       "  'NumAttendees': 3,\n",
       "  'Attendees': ['usertwo.amd@gmail.com',\n",
       "   'userone.amd@gmail.com',\n",
       "   'userthree.amd@gmail.com'],\n",
       "  'Summary': 'Meet to discuss ongoing Projects'},\n",
       " {'StartTime': '2025-07-17T11:00:00+05:30',\n",
       "  'EndTime': '2025-07-17T11:30:00+05:30',\n",
       "  'NumAttendees': 3,\n",
       "  'Attendees': ['usertwo.amd@gmail.com',\n",
       "   'userone.amd@gmail.com',\n",
       "   'userthree.amd@gmail.com'],\n",
       "  'Summary': 'Meet to discuss ongoing Projects'},\n",
       " {'StartTime': '2025-07-17T18:00:00+05:30',\n",
       "  'EndTime': '2025-07-18T09:00:00+05:30',\n",
       "  'NumAttendees': 1,\n",
       "  'Attendees': ['SELF'],\n",
       "  'Summary': 'Off Hours'}]"
      ]
     },
     "execution_count": 9,
     "metadata": {},
     "output_type": "execute_result"
    }
   ],
   "source": [
    "event"
   ]
  },
  {
   "cell_type": "code",
   "execution_count": 7,
   "id": "65cce1c0",
   "metadata": {},
   "outputs": [
    {
     "name": "stdout",
     "output_type": "stream",
     "text": [
      "[{'colorId': '11',\n",
      "  'created': '2025-07-12T03:55:23.000Z',\n",
      "  'creator': {'email': 'userone.amd@gmail.com', 'self': True},\n",
      "  'end': {'dateTime': '2025-07-17T09:00:00+05:30', 'timeZone': 'Asia/Kolkata'},\n",
      "  'etag': '\"3504585976695742\"',\n",
      "  'eventType': 'default',\n",
      "  'htmlLink': 'https://www.google.com/calendar/event?eid=NzAwY2xnMmUxNDVlb3BwcW42NzFmY3RuNG9fMjAyNTA3MTZUMTIzMDAwWiB1c2Vyb25lLmFtZEBt',\n",
      "  'iCalUID': '700clg2e145eoppqn671fctn4o@google.com',\n",
      "  'id': '700clg2e145eoppqn671fctn4o_20250716T123000Z',\n",
      "  'kind': 'calendar#event',\n",
      "  'organizer': {'email': 'userone.amd@gmail.com', 'self': True},\n",
      "  'originalStartTime': {'dateTime': '2025-07-16T18:00:00+05:30',\n",
      "                        'timeZone': 'Asia/Kolkata'},\n",
      "  'recurringEventId': '700clg2e145eoppqn671fctn4o',\n",
      "  'reminders': {'useDefault': True},\n",
      "  'sequence': 0,\n",
      "  'start': {'dateTime': '2025-07-16T18:00:00+05:30',\n",
      "            'timeZone': 'Asia/Kolkata'},\n",
      "  'status': 'confirmed',\n",
      "  'summary': 'Off Hours',\n",
      "  'updated': '2025-07-12T04:03:08.347Z'},\n",
      " {'colorId': '11',\n",
      "  'created': '2025-07-12T03:55:23.000Z',\n",
      "  'creator': {'email': 'userone.amd@gmail.com', 'self': True},\n",
      "  'end': {'dateTime': '2025-07-18T09:00:00+05:30', 'timeZone': 'Asia/Kolkata'},\n",
      "  'etag': '\"3504585976695742\"',\n",
      "  'eventType': 'default',\n",
      "  'htmlLink': 'https://www.google.com/calendar/event?eid=NzAwY2xnMmUxNDVlb3BwcW42NzFmY3RuNG9fMjAyNTA3MTdUMTIzMDAwWiB1c2Vyb25lLmFtZEBt',\n",
      "  'iCalUID': '700clg2e145eoppqn671fctn4o@google.com',\n",
      "  'id': '700clg2e145eoppqn671fctn4o_20250717T123000Z',\n",
      "  'kind': 'calendar#event',\n",
      "  'organizer': {'email': 'userone.amd@gmail.com', 'self': True},\n",
      "  'originalStartTime': {'dateTime': '2025-07-17T18:00:00+05:30',\n",
      "                        'timeZone': 'Asia/Kolkata'},\n",
      "  'recurringEventId': '700clg2e145eoppqn671fctn4o',\n",
      "  'reminders': {'useDefault': True},\n",
      "  'sequence': 0,\n",
      "  'start': {'dateTime': '2025-07-17T18:00:00+05:30',\n",
      "            'timeZone': 'Asia/Kolkata'},\n",
      "  'status': 'confirmed',\n",
      "  'summary': 'Off Hours',\n",
      "  'updated': '2025-07-12T04:03:08.347Z'}]\n"
     ]
    }
   ],
   "source": [
    "from pprint import pprint\n",
    "\n",
    "pprint([{'kind': 'calendar#event', 'etag': '\"3504585976695742\"', 'id': '700clg2e145eoppqn671fctn4o_20250716T123000Z', 'status': 'confirmed', 'htmlLink': 'https://www.google.com/calendar/event?eid=NzAwY2xnMmUxNDVlb3BwcW42NzFmY3RuNG9fMjAyNTA3MTZUMTIzMDAwWiB1c2Vyb25lLmFtZEBt', 'created': '2025-07-12T03:55:23.000Z', 'updated': '2025-07-12T04:03:08.347Z', 'summary': 'Off Hours', 'colorId': '11', 'creator': {'email': 'userone.amd@gmail.com', 'self': True}, 'organizer': {'email': 'userone.amd@gmail.com', 'self': True}, 'start': {'dateTime': '2025-07-16T18:00:00+05:30', 'timeZone': 'Asia/Kolkata'}, 'end': {'dateTime': '2025-07-17T09:00:00+05:30', 'timeZone': 'Asia/Kolkata'}, 'recurringEventId': '700clg2e145eoppqn671fctn4o', 'originalStartTime': {'dateTime': '2025-07-16T18:00:00+05:30', 'timeZone': 'Asia/Kolkata'}, 'iCalUID': '700clg2e145eoppqn671fctn4o@google.com', 'sequence': 0, 'reminders': {'useDefault': True}, 'eventType': 'default'}, {'kind': 'calendar#event', 'etag': '\"3504585976695742\"', 'id': '700clg2e145eoppqn671fctn4o_20250717T123000Z', 'status': 'confirmed', 'htmlLink': 'https://www.google.com/calendar/event?eid=NzAwY2xnMmUxNDVlb3BwcW42NzFmY3RuNG9fMjAyNTA3MTdUMTIzMDAwWiB1c2Vyb25lLmFtZEBt', 'created': '2025-07-12T03:55:23.000Z', 'updated': '2025-07-12T04:03:08.347Z', 'summary': 'Off Hours', 'colorId': '11', 'creator': {'email': 'userone.amd@gmail.com', 'self': True}, 'organizer': {'email': 'userone.amd@gmail.com', 'self': True}, 'start': {'dateTime': '2025-07-17T18:00:00+05:30', 'timeZone': 'Asia/Kolkata'}, 'end': {'dateTime': '2025-07-18T09:00:00+05:30', 'timeZone': 'Asia/Kolkata'}, 'recurringEventId': '700clg2e145eoppqn671fctn4o', 'originalStartTime': {'dateTime': '2025-07-17T18:00:00+05:30', 'timeZone': 'Asia/Kolkata'}, 'iCalUID': '700clg2e145eoppqn671fctn4o@google.com', 'sequence': 0, 'reminders': {'useDefault': True}, 'eventType': 'default'}])"
   ]
  },
  {
   "cell_type": "code",
   "execution_count": null,
   "id": "4573c6cd-6adc-49b3-a7c2-033d435b7214",
   "metadata": {},
   "outputs": [],
   "source": []
  }
 ],
 "metadata": {
  "kernelspec": {
   "display_name": "Python 3 (ipykernel)",
   "language": "python",
   "name": "python3"
  },
  "language_info": {
   "codemirror_mode": {
    "name": "ipython",
    "version": 3
   },
   "file_extension": ".py",
   "mimetype": "text/x-python",
   "name": "python",
   "nbconvert_exporter": "python",
   "pygments_lexer": "ipython3",
   "version": "3.12.10"
  }
 },
 "nbformat": 4,
 "nbformat_minor": 5
}
